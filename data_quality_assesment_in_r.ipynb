{
  "nbformat": 4,
  "nbformat_minor": 0,
  "metadata": {
    "colab": {
      "provenance": []
    },
    "kernelspec": {
      "name": "python3",
      "display_name": "Python 3"
    },
    "language_info": {
      "name": "python"
    }
  },
  "cells": [
    {
      "cell_type": "markdown",
      "source": [
        "# DATA QUALITY ASSESSMENT IN R\n",
        "    "
      ],
      "metadata": {
        "id": "AQWNjVl7LtZ1"
      }
    },
    {
      "cell_type": "markdown",
      "source": [
        "**Grace Ndunda**\n",
        "\n",
        "**12/8/2022**"
      ],
      "metadata": {
        "id": "QpAGyUV0MyL5"
      }
    },
    {
      "cell_type": "markdown",
      "source": [
        "### Task: Draft a document to the client identifying the data quality issues and strategies to mitigate these issues. Refer to ‘Data Quality Framework Table’ and resources below for criteria and dimensions which you should consider."
      ],
      "metadata": {
        "id": "bmvUfgohL0Vh"
      }
    },
    {
      "cell_type": "code",
      "execution_count": null,
      "metadata": {
        "id": "v-FoW2QM62u_",
        "colab": {
          "base_uri": "https://localhost:8080/"
        },
        "outputId": "4cc786ee-682d-413c-cced-eb1700a6d799"
      },
      "outputs": [
        {
          "output_type": "stream",
          "name": "stdout",
          "text": [
            "The rpy2.ipython extension is already loaded. To reload it, use:\n",
            "  %reload_ext rpy2.ipython\n"
          ]
        }
      ],
      "source": [
        "%load_ext rpy2.ipython"
      ]
    },
    {
      "cell_type": "code",
      "source": [
        "\n",
        "!pip uninstall rpy2 -y\n",
        "!pip install rpy2==3.5.1\n"
      ],
      "metadata": {
        "colab": {
          "base_uri": "https://localhost:8080/",
          "height": 367
        },
        "id": "npEWjFcg7nkq",
        "outputId": "f0b5fa3e-e88d-4935-d06f-3bf47b97117a"
      },
      "execution_count": null,
      "outputs": [
        {
          "output_type": "stream",
          "name": "stdout",
          "text": [
            "Found existing installation: rpy2 3.5.1\n",
            "Uninstalling rpy2-3.5.1:\n",
            "  Successfully uninstalled rpy2-3.5.1\n",
            "Looking in indexes: https://pypi.org/simple, https://us-python.pkg.dev/colab-wheels/public/simple/\n",
            "Collecting rpy2==3.5.1\n",
            "  Using cached rpy2-3.5.1-cp38-cp38-linux_x86_64.whl\n",
            "Requirement already satisfied: jinja2 in /usr/local/lib/python3.8/dist-packages (from rpy2==3.5.1) (2.11.3)\n",
            "Requirement already satisfied: pytz in /usr/local/lib/python3.8/dist-packages (from rpy2==3.5.1) (2022.6)\n",
            "Requirement already satisfied: cffi>=1.10.0 in /usr/local/lib/python3.8/dist-packages (from rpy2==3.5.1) (1.15.1)\n",
            "Requirement already satisfied: tzlocal in /usr/local/lib/python3.8/dist-packages (from rpy2==3.5.1) (1.5.1)\n",
            "Requirement already satisfied: pycparser in /usr/local/lib/python3.8/dist-packages (from cffi>=1.10.0->rpy2==3.5.1) (2.21)\n",
            "Requirement already satisfied: MarkupSafe>=0.23 in /usr/local/lib/python3.8/dist-packages (from jinja2->rpy2==3.5.1) (2.0.1)\n",
            "Installing collected packages: rpy2\n",
            "Successfully installed rpy2-3.5.1\n"
          ]
        },
        {
          "output_type": "display_data",
          "data": {
            "application/vnd.colab-display-data+json": {
              "pip_warning": {
                "packages": [
                  "_rinterface_cffi_api",
                  "rpy2"
                ]
              }
            }
          },
          "metadata": {}
        }
      ]
    },
    {
      "cell_type": "code",
      "source": [
        "%%R\n",
        "install.packages(\"readxl\")"
      ],
      "metadata": {
        "colab": {
          "base_uri": "https://localhost:8080/"
        },
        "id": "vVxXPqNfBbQs",
        "outputId": "fa869035-6a9c-4ce8-c9f7-9484e1dd8396"
      },
      "execution_count": null,
      "outputs": [
        {
          "output_type": "stream",
          "name": "stderr",
          "text": [
            "WARNING:rpy2.rinterface_lib.callbacks:R[write to console]: Installing package into ‘/usr/local/lib/R/site-library’\n",
            "(as ‘lib’ is unspecified)\n",
            "\n",
            "WARNING:rpy2.rinterface_lib.callbacks:R[write to console]: trying URL 'https://cran.rstudio.com/src/contrib/readxl_1.4.1.tar.gz'\n",
            "\n",
            "WARNING:rpy2.rinterface_lib.callbacks:R[write to console]: Content type 'application/x-gzip'\n",
            "WARNING:rpy2.rinterface_lib.callbacks:R[write to console]:  length 2090383 bytes (2.0 MB)\n",
            "\n",
            "WARNING:rpy2.rinterface_lib.callbacks:R[write to console]: =\n",
            "WARNING:rpy2.rinterface_lib.callbacks:R[write to console]: =\n",
            "WARNING:rpy2.rinterface_lib.callbacks:R[write to console]: =\n",
            "WARNING:rpy2.rinterface_lib.callbacks:R[write to console]: =\n",
            "WARNING:rpy2.rinterface_lib.callbacks:R[write to console]: =\n",
            "WARNING:rpy2.rinterface_lib.callbacks:R[write to console]: =\n",
            "WARNING:rpy2.rinterface_lib.callbacks:R[write to console]: =\n",
            "WARNING:rpy2.rinterface_lib.callbacks:R[write to console]: =\n",
            "WARNING:rpy2.rinterface_lib.callbacks:R[write to console]: =\n",
            "WARNING:rpy2.rinterface_lib.callbacks:R[write to console]: =\n",
            "WARNING:rpy2.rinterface_lib.callbacks:R[write to console]: =\n",
            "WARNING:rpy2.rinterface_lib.callbacks:R[write to console]: =\n",
            "WARNING:rpy2.rinterface_lib.callbacks:R[write to console]: =\n",
            "WARNING:rpy2.rinterface_lib.callbacks:R[write to console]: =\n",
            "WARNING:rpy2.rinterface_lib.callbacks:R[write to console]: =\n",
            "WARNING:rpy2.rinterface_lib.callbacks:R[write to console]: =\n",
            "WARNING:rpy2.rinterface_lib.callbacks:R[write to console]: =\n",
            "WARNING:rpy2.rinterface_lib.callbacks:R[write to console]: =\n",
            "WARNING:rpy2.rinterface_lib.callbacks:R[write to console]: =\n",
            "WARNING:rpy2.rinterface_lib.callbacks:R[write to console]: =\n",
            "WARNING:rpy2.rinterface_lib.callbacks:R[write to console]: =\n",
            "WARNING:rpy2.rinterface_lib.callbacks:R[write to console]: =\n",
            "WARNING:rpy2.rinterface_lib.callbacks:R[write to console]: =\n",
            "WARNING:rpy2.rinterface_lib.callbacks:R[write to console]: =\n",
            "WARNING:rpy2.rinterface_lib.callbacks:R[write to console]: =\n",
            "WARNING:rpy2.rinterface_lib.callbacks:R[write to console]: =\n",
            "WARNING:rpy2.rinterface_lib.callbacks:R[write to console]: =\n",
            "WARNING:rpy2.rinterface_lib.callbacks:R[write to console]: =\n",
            "WARNING:rpy2.rinterface_lib.callbacks:R[write to console]: =\n",
            "WARNING:rpy2.rinterface_lib.callbacks:R[write to console]: =\n",
            "WARNING:rpy2.rinterface_lib.callbacks:R[write to console]: =\n",
            "WARNING:rpy2.rinterface_lib.callbacks:R[write to console]: =\n",
            "WARNING:rpy2.rinterface_lib.callbacks:R[write to console]: =\n",
            "WARNING:rpy2.rinterface_lib.callbacks:R[write to console]: =\n",
            "WARNING:rpy2.rinterface_lib.callbacks:R[write to console]: =\n",
            "WARNING:rpy2.rinterface_lib.callbacks:R[write to console]: =\n",
            "WARNING:rpy2.rinterface_lib.callbacks:R[write to console]: =\n",
            "WARNING:rpy2.rinterface_lib.callbacks:R[write to console]: =\n",
            "WARNING:rpy2.rinterface_lib.callbacks:R[write to console]: =\n",
            "WARNING:rpy2.rinterface_lib.callbacks:R[write to console]: =\n",
            "WARNING:rpy2.rinterface_lib.callbacks:R[write to console]: =\n",
            "WARNING:rpy2.rinterface_lib.callbacks:R[write to console]: =\n",
            "WARNING:rpy2.rinterface_lib.callbacks:R[write to console]: =\n",
            "WARNING:rpy2.rinterface_lib.callbacks:R[write to console]: =\n",
            "WARNING:rpy2.rinterface_lib.callbacks:R[write to console]: =\n",
            "WARNING:rpy2.rinterface_lib.callbacks:R[write to console]: =\n",
            "WARNING:rpy2.rinterface_lib.callbacks:R[write to console]: =\n",
            "WARNING:rpy2.rinterface_lib.callbacks:R[write to console]: =\n",
            "WARNING:rpy2.rinterface_lib.callbacks:R[write to console]: =\n",
            "WARNING:rpy2.rinterface_lib.callbacks:R[write to console]: =\n",
            "WARNING:rpy2.rinterface_lib.callbacks:R[write to console]: \n",
            "\n",
            "WARNING:rpy2.rinterface_lib.callbacks:R[write to console]: downloaded 2.0 MB\n",
            "\n",
            "\n",
            "WARNING:rpy2.rinterface_lib.callbacks:R[write to console]: \n",
            "\n",
            "WARNING:rpy2.rinterface_lib.callbacks:R[write to console]: \n",
            "WARNING:rpy2.rinterface_lib.callbacks:R[write to console]: The downloaded source packages are in\n",
            "\t‘/tmp/Rtmph3fxH0/downloaded_packages’\n",
            "WARNING:rpy2.rinterface_lib.callbacks:R[write to console]: \n",
            "WARNING:rpy2.rinterface_lib.callbacks:R[write to console]: \n",
            "\n"
          ]
        }
      ]
    },
    {
      "cell_type": "code",
      "source": [
        "%%R\n",
        "library(\"readxl\")"
      ],
      "metadata": {
        "id": "_xTsS-VBBn7i"
      },
      "execution_count": null,
      "outputs": []
    },
    {
      "cell_type": "code",
      "source": [
        "%%R\n",
        "library(ggplot2) \n",
        "library(tidyverse)"
      ],
      "metadata": {
        "id": "-5JbAtNM_XW1"
      },
      "execution_count": null,
      "outputs": []
    },
    {
      "cell_type": "code",
      "source": [
        "%%R\n",
        "Transactions<- read_excel(\"/content/KPMG_VI_New_raw_data_update_final .xlsx\", \n",
        "                                                sheet = \"Transactions\", skip = 1)\n",
        "CustomerList <- read_excel(\"/content/KPMG_VI_New_raw_data_update_final .xlsx\", \n",
        "    sheet = \"NewCustomerList\", skip = 1)"
      ],
      "metadata": {
        "colab": {
          "base_uri": "https://localhost:8080/"
        },
        "id": "EZB8TtQG_rJI",
        "outputId": "1d02127e-ba01-44b7-a557-3d9066689d4a"
      },
      "execution_count": null,
      "outputs": [
        {
          "output_type": "stream",
          "name": "stdout",
          "text": [
            "New names:\n",
            "• `` -> `...17`\n",
            "• `` -> `...18`\n",
            "• `` -> `...19`\n",
            "• `` -> `...20`\n",
            "• `` -> `...21`\n"
          ]
        }
      ]
    },
    {
      "cell_type": "code",
      "source": [
        "%%R\n",
        "CustomerDemographic <- read_excel(\"/content/KPMG_VI_New_raw_data_update_final .xlsx\", \n",
        "    sheet = \"CustomerDemographic\", skip = 1)\n",
        "\n",
        "CustomerAddress <- read_excel(\"/content/KPMG_VI_New_raw_data_update_final .xlsx\", \n",
        "    sheet = \"CustomerAddress\", skip = 1)"
      ],
      "metadata": {
        "id": "LqqeNun_EFDV"
      },
      "execution_count": null,
      "outputs": []
    },
    {
      "cell_type": "markdown",
      "source": [
        "# Data quality Dimensions"
      ],
      "metadata": {
        "id": "ABQS7a2BFagW"
      }
    },
    {
      "cell_type": "markdown",
      "source": [
        "## data quality dimensions include;\n",
        " \n",
        "\n",
        "*   Accuracy\n",
        "*   completeness\n",
        "\n",
        "\n",
        "*   Consistency\n",
        "*   Relevance\n",
        "\n",
        "\n",
        "*   Validity\n",
        "*   Uniqueness\n",
        "\n",
        "\n",
        "\n",
        "\n",
        "\n",
        "\n"
      ],
      "metadata": {
        "id": "vaLS07d_FnZl"
      }
    },
    {
      "cell_type": "markdown",
      "source": [
        "## Accuracy"
      ],
      "metadata": {
        "id": "YWfWY4VVGars"
      }
    },
    {
      "cell_type": "markdown",
      "source": [
        "**This deals with how information is accurate concerning a certain variable**"
      ],
      "metadata": {
        "id": "n8JIMDCyGdS8"
      }
    },
    {
      "cell_type": "markdown",
      "source": [
        "# Transactions"
      ],
      "metadata": {
        "id": "GiyjDJ_EG27D"
      }
    },
    {
      "cell_type": "code",
      "source": [
        "%%R\n",
        "summary(Transactions)"
      ],
      "metadata": {
        "colab": {
          "base_uri": "https://localhost:8080/"
        },
        "id": "js8eh6S4G6NL",
        "outputId": "081af652-18e9-40ec-80b9-237cdca42332"
      },
      "execution_count": null,
      "outputs": [
        {
          "output_type": "stream",
          "name": "stdout",
          "text": [
            " transaction_id    product_id      customer_id    \n",
            " Min.   :    1   Min.   :  0.00   Min.   :   1.0  \n",
            " 1st Qu.: 5001   1st Qu.: 18.00   1st Qu.: 857.8  \n",
            " Median :10000   Median : 44.00   Median :1736.0  \n",
            " Mean   :10000   Mean   : 45.36   Mean   :1738.2  \n",
            " 3rd Qu.:15000   3rd Qu.: 72.00   3rd Qu.:2613.0  \n",
            " Max.   :20000   Max.   :100.00   Max.   :5034.0  \n",
            "                                                  \n",
            " transaction_date                 online_order    order_status      \n",
            " Min.   :2017-01-01 00:00:00.00   Mode :logical   Length:20000      \n",
            " 1st Qu.:2017-04-01 00:00:00.00   FALSE:9811      Class :character  \n",
            " Median :2017-07-03 00:00:00.00   TRUE :9829      Mode  :character  \n",
            " Mean   :2017-07-01 14:08:05.27   NA's :360                         \n",
            " 3rd Qu.:2017-10-02 00:00:00.00                                     \n",
            " Max.   :2017-12-30 00:00:00.00                                     \n",
            "                                                                    \n",
            "    brand           product_line       product_class      product_size      \n",
            " Length:20000       Length:20000       Length:20000       Length:20000      \n",
            " Class :character   Class :character   Class :character   Class :character  \n",
            " Mode  :character   Mode  :character   Mode  :character   Mode  :character  \n",
            "                                                                            \n",
            "                                                                            \n",
            "                                                                            \n",
            "                                                                            \n",
            "   list_price      standard_cost     product_first_sold_date\n",
            " Min.   :  12.01   Min.   :   7.21   Min.   :33259          \n",
            " 1st Qu.: 575.27   1st Qu.: 215.14   1st Qu.:35667          \n",
            " Median :1163.89   Median : 507.58   Median :38216          \n",
            " Mean   :1107.83   Mean   : 556.05   Mean   :38200          \n",
            " 3rd Qu.:1635.30   3rd Qu.: 795.10   3rd Qu.:40672          \n",
            " Max.   :2091.47   Max.   :1759.85   Max.   :42710          \n",
            "                   NA's   :197       NA's   :197            \n"
          ]
        }
      ]
    },
    {
      "cell_type": "markdown",
      "source": [
        "**Everything seems to be alright with the type of data of the variables, minimum values, maximum values, and format. Therefore, I assume the accuracy of the datasets given is high.**"
      ],
      "metadata": {
        "id": "-QBWm07sHMnQ"
      }
    },
    {
      "cell_type": "markdown",
      "source": [
        "# Customer List"
      ],
      "metadata": {
        "id": "KBOlFuOIHTY_"
      }
    },
    {
      "cell_type": "code",
      "source": [
        "%%R\n",
        "summary(CustomerList)"
      ],
      "metadata": {
        "colab": {
          "base_uri": "https://localhost:8080/"
        },
        "id": "BUKmz1d-HY7c",
        "outputId": "ae048630-3fb7-4253-a2ea-361604173f06"
      },
      "execution_count": null,
      "outputs": [
        {
          "output_type": "stream",
          "name": "stdout",
          "text": [
            "  first_name         last_name            gender         \n",
            " Length:1000        Length:1000        Length:1000       \n",
            " Class :character   Class :character   Class :character  \n",
            " Mode  :character   Mode  :character   Mode  :character  \n",
            "                                                         \n",
            "                                                         \n",
            "                                                         \n",
            " past_3_years_bike_related_purchases     DOB             job_title        \n",
            " Length:1000                         Length:1000        Length:1000       \n",
            " Class :character                    Class :character   Class :character  \n",
            " Mode  :character                    Mode  :character   Mode  :character  \n",
            "                                                                          \n",
            "                                                                          \n",
            "                                                                          \n",
            " job_industry_category wealth_segment     deceased_indicator   owns_car        \n",
            " Length:1000           Length:1000        Length:1000        Length:1000       \n",
            " Class :character      Class :character   Class :character   Class :character  \n",
            " Mode  :character      Mode  :character   Mode  :character   Mode  :character  \n",
            "                                                                               \n",
            "                                                                               \n",
            "                                                                               \n",
            "     tenure        address            postcode            state          \n",
            " Min.   : 0.00   Length:1000        Length:1000        Length:1000       \n",
            " 1st Qu.: 7.00   Class :character   Class :character   Class :character  \n",
            " Median :11.00   Mode  :character   Mode  :character   Mode  :character  \n",
            " Mean   :11.39                                                           \n",
            " 3rd Qu.:15.00                                                           \n",
            " Max.   :22.00                                                           \n",
            "   country          property_valuation     ...17            ...18       \n",
            " Length:1000        Length:1000        Min.   :0.4000   Min.   :0.4000  \n",
            " Class :character   Class :character   1st Qu.:0.5700   1st Qu.:0.6375  \n",
            " Mode  :character   Mode  :character   Median :0.7500   Median :0.8200  \n",
            "                                       Mean   :0.7473   Mean   :0.8390  \n",
            "                                       3rd Qu.:0.9200   3rd Qu.:1.0319  \n",
            "                                       Max.   :1.1000   Max.   :1.3750  \n",
            "     ...19            ...20            ...21             Rank       \n",
            " Min.   :0.4000   Min.   :0.3400   Min.   :   1.0   Min.   :   1.0  \n",
            " 1st Qu.:0.7125   1st Qu.:0.6587   1st Qu.: 250.0   1st Qu.: 250.0  \n",
            " Median :0.9125   Median :0.8426   Median : 500.0   Median : 500.0  \n",
            " Mean   :0.9427   Mean   :0.8705   Mean   : 498.8   Mean   : 498.8  \n",
            " 3rd Qu.:1.1430   3rd Qu.:1.0625   3rd Qu.: 750.2   3rd Qu.: 750.2  \n",
            " Max.   :1.7188   Max.   :1.7188   Max.   :1000.0   Max.   :1000.0  \n",
            "     Value       \n",
            " Min.   :0.3400  \n",
            " 1st Qu.:0.6495  \n",
            " Median :0.8600  \n",
            " Mean   :0.8817  \n",
            " 3rd Qu.:1.0750  \n",
            " Max.   :1.7188  \n"
          ]
        }
      ]
    },
    {
      "cell_type": "markdown",
      "source": [
        "**I see problems with the purchases on bike related purchases, DOB, postcode, and property valuation for having a wrong format. Additionally there is a lack of customer ID, which makes validation of information more difficult between datasets.**"
      ],
      "metadata": {
        "id": "O2j6qeFUGPSG"
      }
    },
    {
      "cell_type": "markdown",
      "source": [
        "# Customer Demographics"
      ],
      "metadata": {
        "id": "0KlRQDB2Fnby"
      }
    },
    {
      "cell_type": "code",
      "source": [
        "%%R\n",
        "summary(CustomerDemographic)"
      ],
      "metadata": {
        "id": "_9kjkSgOEsCs",
        "colab": {
          "base_uri": "https://localhost:8080/"
        },
        "outputId": "e6c8bde6-5b43-4715-8dd1-2f57fa1d223e"
      },
      "execution_count": null,
      "outputs": [
        {
          "output_type": "stream",
          "name": "stdout",
          "text": [
            "  customer_id    first_name         last_name            gender         \n",
            " Min.   :   1   Length:4000        Length:4000        Length:4000       \n",
            " 1st Qu.:1001   Class :character   Class :character   Class :character  \n",
            " Median :2000   Mode  :character   Mode  :character   Mode  :character  \n",
            " Mean   :2000                                                           \n",
            " 3rd Qu.:3000                                                           \n",
            " Max.   :4000                                                           \n",
            "                                                                        \n",
            " past_3_years_bike_related_purchases     DOB             job_title        \n",
            " Min.   : 0.00                       Length:4000        Length:4000       \n",
            " 1st Qu.:24.00                       Class :character   Class :character  \n",
            " Median :48.00                       Mode  :character   Mode  :character  \n",
            " Mean   :48.89                                                            \n",
            " 3rd Qu.:73.00                                                            \n",
            " Max.   :99.00                                                            \n",
            "                                                                          \n",
            " job_industry_category wealth_segment     deceased_indicator   default         \n",
            " Length:4000           Length:4000        Length:4000        Length:4000       \n",
            " Class :character      Class :character   Class :character   Class :character  \n",
            " Mode  :character      Mode  :character   Mode  :character   Mode  :character  \n",
            "                                                                               \n",
            "                                                                               \n",
            "                                                                               \n",
            "                                                                               \n",
            "   owns_car             tenure     \n",
            " Length:4000        Min.   : 1.00  \n",
            " Class :character   1st Qu.: 6.00  \n",
            " Mode  :character   Median :11.00  \n",
            "                    Mean   :10.66  \n",
            "                    3rd Qu.:15.00  \n",
            "                    Max.   :22.00  \n",
            "                    NA's   :87     \n"
          ]
        }
      ]
    },
    {
      "cell_type": "markdown",
      "source": [
        "**I see problems with, DOB for having a wrong format**"
      ],
      "metadata": {
        "id": "LfSAzXI7QpMw"
      }
    },
    {
      "cell_type": "markdown",
      "source": [
        "# Customer Adress"
      ],
      "metadata": {
        "id": "Si_TNNfNQtqM"
      }
    },
    {
      "cell_type": "code",
      "source": [
        "%%R\n",
        "summary(CustomerAddress)"
      ],
      "metadata": {
        "colab": {
          "base_uri": "https://localhost:8080/"
        },
        "id": "3NR6-19GQ2E6",
        "outputId": "b73a2c1f-e59b-460e-88b7-4c2339a34bd7"
      },
      "execution_count": null,
      "outputs": [
        {
          "output_type": "stream",
          "name": "stdout",
          "text": [
            "  customer_id     address             postcode       state          \n",
            " Min.   :   1   Length:3999        Min.   :2000   Length:3999       \n",
            " 1st Qu.:1004   Class :character   1st Qu.:2200   Class :character  \n",
            " Median :2004   Mode  :character   Median :2768   Mode  :character  \n",
            " Mean   :2004                      Mean   :2986                     \n",
            " 3rd Qu.:3004                      3rd Qu.:3750                     \n",
            " Max.   :4003                      Max.   :4883                     \n",
            "   country          property_valuation\n",
            " Length:3999        Min.   : 1.000    \n",
            " Class :character   1st Qu.: 6.000    \n",
            " Mode  :character   Median : 8.000    \n",
            "                    Mean   : 7.514    \n",
            "                    3rd Qu.:10.000    \n",
            "                    Max.   :12.000    \n"
          ]
        }
      ]
    },
    {
      "cell_type": "markdown",
      "source": [
        "**Everything seems to be alright with the type of data of the variables, minimum values, maximum values, and format. Therefore, we assume the accuracy of the datasets given is high.**"
      ],
      "metadata": {
        "id": "ljNWbdylRj8K"
      }
    },
    {
      "cell_type": "markdown",
      "source": [
        "## Completeness"
      ],
      "metadata": {
        "id": "zPj8IDHnRl_r"
      }
    },
    {
      "cell_type": "markdown",
      "source": [
        "**Analyzing the missing values in the dataset**"
      ],
      "metadata": {
        "id": "95l2yVVJRqWt"
      }
    },
    {
      "cell_type": "markdown",
      "source": [
        "# Transactions"
      ],
      "metadata": {
        "id": "xChWSv6lR9cU"
      }
    },
    {
      "cell_type": "code",
      "source": [
        "%%R\n",
        "sum(is.na(Transactions))\n"
      ],
      "metadata": {
        "colab": {
          "base_uri": "https://localhost:8080/"
        },
        "id": "aDNp5yBL6V0S",
        "outputId": "f660a16e-c8f1-429f-aeee-331ee875f894"
      },
      "execution_count": null,
      "outputs": [
        {
          "output_type": "stream",
          "name": "stdout",
          "text": [
            "[1] 1542\n"
          ]
        }
      ]
    },
    {
      "cell_type": "code",
      "source": [
        "#checking for null value\n",
        "%%R\n",
        "sum(is.na(Transactions))\n",
        "# calculating the product of dimensions of dataframe \n",
        "totalcells = prod(dim(Transactions))\n",
        "print(\"Total number of cells \")\n",
        "print(totalcells)\n",
        "  \n",
        "# calculating the number of cells with na\n",
        "missingcells = sum(is.na(Transactions))\n",
        "print(\"Missing value cells\")\n",
        "print(missingcells)\n",
        "  \n",
        "# calculating percentage of missing values\n",
        "percentage = (missingcells * 100 )/(totalcells)\n",
        "print(\"Percentage of missing values' cells\")\n",
        "print (percentage)"
      ],
      "metadata": {
        "colab": {
          "base_uri": "https://localhost:8080/"
        },
        "id": "shAE8dV-SBPD",
        "outputId": "d2d2c21f-e300-4837-a38c-08193f0058aa"
      },
      "execution_count": null,
      "outputs": [
        {
          "output_type": "stream",
          "name": "stdout",
          "text": [
            "[1] \"Total number of cells \"\n",
            "[1] 260000\n",
            "[1] \"Missing value cells\"\n",
            "[1] 1542\n",
            "[1] \"Percentage of missing values' cells\"\n",
            "[1] 0.5930769\n"
          ]
        }
      ]
    },
    {
      "cell_type": "markdown",
      "source": [
        "**From the above analysis the number of missing value cells is 1542 which is about 0.59% of the entire dataset.**"
      ],
      "metadata": {
        "id": "ddGFGW4u4VXL"
      }
    },
    {
      "cell_type": "markdown",
      "source": [
        "## Customer List"
      ],
      "metadata": {
        "id": "g2Gs6vpL6KWt"
      }
    },
    {
      "cell_type": "code",
      "source": [
        "#checking for null value\n",
        "%%R\n",
        "sum(is.na(CustomerList))\n",
        "# calculating the product of dimensions of dataframe \n",
        "totalcells = prod(dim(CustomerList))\n",
        "print(\"Total number of cells \")\n",
        "print(totalcells)\n",
        "  \n",
        "# calculating the number of cells with na\n",
        "missingcells = sum(is.na(CustomerList))\n",
        "print(\"Missing value cells\")\n",
        "print(missingcells)\n",
        "  \n",
        "# calculating percentage of missing values\n",
        "percentage = (missingcells * 100 )/(totalcells)\n",
        "print(\"Percentage of missing values' cells\")\n",
        "print (percentage)"
      ],
      "metadata": {
        "colab": {
          "base_uri": "https://localhost:8080/"
        },
        "id": "j87z8iaY6OEq",
        "outputId": "19f13ddf-8f3d-4d8f-f3c2-03550b5463c9"
      },
      "execution_count": null,
      "outputs": [
        {
          "output_type": "stream",
          "name": "stdout",
          "text": [
            "[1] \"Total number of cells \"\n",
            "[1] 23000\n",
            "[1] \"Missing value cells\"\n",
            "[1] 152\n",
            "[1] \"Percentage of missing values' cells\"\n",
            "[1] 0.6608696\n"
          ]
        }
      ]
    },
    {
      "cell_type": "markdown",
      "source": [
        "**The above analysis shows a 0.66% of missing values. However, this variable might not be critical for analysis**"
      ],
      "metadata": {
        "id": "7IDVzo_h6yJQ"
      }
    },
    {
      "cell_type": "markdown",
      "source": [
        "# Customer Demographics"
      ],
      "metadata": {
        "id": "aG6Ok1Gm7VkQ"
      }
    },
    {
      "cell_type": "code",
      "source": [
        "#checking for null value\n",
        "%%R\n",
        "sum(is.na(CustomerDemographic))\n",
        "# calculating the product of dimensions of dataframe \n",
        "totalcells = prod(dim(CustomerDemographic))\n",
        "print(\"Total number of cells \")\n",
        "print(totalcells)\n",
        "  \n",
        "# calculating the number of cells with na\n",
        "missingcells = sum(is.na(CustomerDemographic))\n",
        "print(\"Missing value cells\")\n",
        "print(missingcells)\n",
        "  \n",
        "# calculating percentage of missing values\n",
        "percentage = (missingcells * 100 )/(totalcells)\n",
        "print(\"Percentage of missing values' cells\")\n",
        "print (percentage)"
      ],
      "metadata": {
        "colab": {
          "base_uri": "https://localhost:8080/"
        },
        "id": "8LnMh6QG7gOV",
        "outputId": "c8dfbf86-9e66-4766-c806-4edd51c41fc4"
      },
      "execution_count": null,
      "outputs": [
        {
          "output_type": "stream",
          "name": "stdout",
          "text": [
            "[1] \"Total number of cells \"\n",
            "[1] 52000\n",
            "[1] \"Missing value cells\"\n",
            "[1] 1045\n",
            "[1] \"Percentage of missing values' cells\"\n",
            "[1] 2.009615\n"
          ]
        }
      ]
    },
    {
      "cell_type": "markdown",
      "source": [
        "**The 5 variables displayed above show missing values, the job_title variable shows a significant missing values; however, this variable might not be critical to the analysis. On the other hand, the other two variables show signifficant completiness.**"
      ],
      "metadata": {
        "id": "8TBbpzqX7xmh"
      }
    },
    {
      "cell_type": "markdown",
      "source": [
        "# Customer Address"
      ],
      "metadata": {
        "id": "VQF2vmOa8ZpO"
      }
    },
    {
      "cell_type": "code",
      "source": [
        "#checking for null value\n",
        "%%R\n",
        "sum(is.na(CustomerAddress))\n",
        "# calculating the product of dimensions of dataframe \n",
        "totalcells = prod(dim(CustomerAddress))\n",
        "print(\"Total number of cells \")\n",
        "print(totalcells)\n",
        "  \n",
        "# calculating the number of cells with na\n",
        "missingcells = sum(is.na(CustomerAddress))\n",
        "print(\"Missing value cells\")\n",
        "print(missingcells)\n",
        "  \n",
        "# calculating percentage of missing values\n",
        "percentage = (missingcells * 100 )/(totalcells)\n",
        "print(\"Percentage of missing values' cells\")\n",
        "print (percentage)"
      ],
      "metadata": {
        "colab": {
          "base_uri": "https://localhost:8080/"
        },
        "id": "qTsVGy_b8eWl",
        "outputId": "e21e621c-055e-4544-99ad-54dc9bd9e5f5"
      },
      "execution_count": null,
      "outputs": [
        {
          "output_type": "stream",
          "name": "stdout",
          "text": [
            "[1] \"Total number of cells \"\n",
            "[1] 23994\n",
            "[1] \"Missing value cells\"\n",
            "[1] 0\n",
            "[1] \"Percentage of missing values' cells\"\n",
            "[1] 0\n"
          ]
        }
      ]
    },
    {
      "cell_type": "markdown",
      "source": [],
      "metadata": {
        "id": "ZfFVRGzc83ME"
      }
    },
    {
      "cell_type": "markdown",
      "source": [
        "**This means that there are not missing values, therefore the whole dataset is complete.**"
      ],
      "metadata": {
        "id": "g8HmpAL_83Om"
      }
    },
    {
      "cell_type": "markdown",
      "source": [
        "# Consistency"
      ],
      "metadata": {
        "id": "YNHjjDc085cX"
      }
    },
    {
      "cell_type": "markdown",
      "source": [
        "Consistency refers to having the same data across different datasets.\n",
        "\n",
        "First, we identify the name of the variables that are repeated accross datasets."
      ],
      "metadata": {
        "id": "4fkXj89w9HBB"
      }
    },
    {
      "cell_type": "code",
      "source": [
        "%%R\n",
        "colnames(Transactions)"
      ],
      "metadata": {
        "colab": {
          "base_uri": "https://localhost:8080/"
        },
        "id": "gLGLsPhb9Vph",
        "outputId": "1aa426c9-433b-4f08-ecbd-3cb6263b5319"
      },
      "execution_count": null,
      "outputs": [
        {
          "output_type": "stream",
          "name": "stdout",
          "text": [
            " [1] \"transaction_id\"          \"product_id\"             \n",
            " [3] \"customer_id\"             \"transaction_date\"       \n",
            " [5] \"online_order\"            \"order_status\"           \n",
            " [7] \"brand\"                   \"product_line\"           \n",
            " [9] \"product_class\"           \"product_size\"           \n",
            "[11] \"list_price\"              \"standard_cost\"          \n",
            "[13] \"product_first_sold_date\"\n"
          ]
        }
      ]
    },
    {
      "cell_type": "code",
      "source": [
        "%%R\n",
        "colnames(CustomerList)"
      ],
      "metadata": {
        "colab": {
          "base_uri": "https://localhost:8080/"
        },
        "id": "7_yBnOqbSBRU",
        "outputId": "39d3c826-0b50-464b-9820-59d2a36ff740"
      },
      "execution_count": null,
      "outputs": [
        {
          "output_type": "stream",
          "name": "stdout",
          "text": [
            " [1] \"first_name\"                          \"last_name\"                          \n",
            " [3] \"gender\"                              \"past_3_years_bike_related_purchases\"\n",
            " [5] \"DOB\"                                 \"job_title\"                          \n",
            " [7] \"job_industry_category\"               \"wealth_segment\"                     \n",
            " [9] \"deceased_indicator\"                  \"owns_car\"                           \n",
            "[11] \"tenure\"                              \"address\"                            \n",
            "[13] \"postcode\"                            \"state\"                              \n",
            "[15] \"country\"                             \"property_valuation\"                 \n",
            "[17] \"...17\"                               \"...18\"                              \n",
            "[19] \"...19\"                               \"...20\"                              \n",
            "[21] \"...21\"                               \"Rank\"                               \n",
            "[23] \"Value\"                              \n"
          ]
        }
      ]
    },
    {
      "cell_type": "code",
      "source": [
        "%%R\n",
        "colnames(CustomerDemographic)"
      ],
      "metadata": {
        "colab": {
          "base_uri": "https://localhost:8080/"
        },
        "id": "rZJ3qm639l6c",
        "outputId": "c5ba8c72-2542-4cdf-e5c0-6af636945aa3"
      },
      "execution_count": null,
      "outputs": [
        {
          "output_type": "stream",
          "name": "stdout",
          "text": [
            " [1] \"customer_id\"                         \"first_name\"                         \n",
            " [3] \"last_name\"                           \"gender\"                             \n",
            " [5] \"past_3_years_bike_related_purchases\" \"DOB\"                                \n",
            " [7] \"job_title\"                           \"job_industry_category\"              \n",
            " [9] \"wealth_segment\"                      \"deceased_indicator\"                 \n",
            "[11] \"default\"                             \"owns_car\"                           \n",
            "[13] \"tenure\"                             \n"
          ]
        }
      ]
    },
    {
      "cell_type": "code",
      "source": [
        "%%R\n",
        "colnames(CustomerAddress)"
      ],
      "metadata": {
        "colab": {
          "base_uri": "https://localhost:8080/"
        },
        "id": "OitLHfb-9tgH",
        "outputId": "1dd9a441-5992-4f9c-f92d-42fe47abc9f1"
      },
      "execution_count": null,
      "outputs": [
        {
          "output_type": "stream",
          "name": "stdout",
          "text": [
            "[1] \"customer_id\"        \"address\"            \"postcode\"          \n",
            "[4] \"state\"              \"country\"            \"property_valuation\"\n"
          ]
        }
      ]
    },
    {
      "cell_type": "markdown",
      "source": [
        "**At a first glance it is possible to determine the shared variables between datasets. In particular, Customer List, seems to include most of the variables in Customer Demographics and Customer Address.**"
      ],
      "metadata": {
        "id": "FrtOOrSG9_0B"
      }
    },
    {
      "cell_type": "markdown",
      "source": [
        "**There are 11 variables that are shared**"
      ],
      "metadata": {
        "id": "dF8itfV3Eapv"
      }
    },
    {
      "cell_type": "markdown",
      "source": [
        "# Timeliness"
      ],
      "metadata": {
        "id": "Xzq8VK3JDnEC"
      }
    },
    {
      "cell_type": "markdown",
      "source": [
        "**There is no time stamp that shows how the data is managed and the availability of it. Therefore a timeliness parameter cannot be analyzed.**"
      ],
      "metadata": {
        "id": "djVlCNo0Es1J"
      }
    },
    {
      "cell_type": "markdown",
      "source": [
        "# Relevancy"
      ],
      "metadata": {
        "id": "uJxQ6-FaEyDu"
      }
    },
    {
      "cell_type": "markdown",
      "source": [
        "**Some of the variables are not that relevant to some of the datasets. For example the variable default has no relevance in the CustomerDemographic dataset. In the same way, the duplication of data in the CustomerList makes the demographics included there not relevant. Additionally, a CustomerID is missing from this dataset.**"
      ],
      "metadata": {
        "id": "JCAJ21FBE9nl"
      }
    },
    {
      "cell_type": "markdown",
      "source": [
        "# Validity"
      ],
      "metadata": {
        "id": "rYHufhYQFI-g"
      }
    },
    {
      "cell_type": "markdown",
      "source": [
        "**As seen in the accuracy section some variables do not follow an expected format that they are supposed to, therefore the data is not validated and standardized for these variables.**"
      ],
      "metadata": {
        "id": "k_tyVllFFPuy"
      }
    },
    {
      "cell_type": "markdown",
      "source": [
        "# Uniqueness"
      ],
      "metadata": {
        "id": "ZO-_dt16FZex"
      }
    },
    {
      "cell_type": "markdown",
      "source": [
        "**The following sections show the uniqueness value of each variable per dataset.**"
      ],
      "metadata": {
        "id": "kCw8S8ZSI7ln"
      }
    },
    {
      "cell_type": "markdown",
      "source": [
        "### Transactions"
      ],
      "metadata": {
        "id": "OtAOKPf4I9tg"
      }
    },
    {
      "cell_type": "code",
      "source": [
        "%%R\n",
        "df_uniq =unique(Transactions)\n",
        "length(df_uniq)\n",
        "   "
      ],
      "metadata": {
        "colab": {
          "base_uri": "https://localhost:8080/"
        },
        "id": "YOzRWwmLFt_e",
        "outputId": "b2ceac0f-a37e-4183-aac2-5ae6e5f58d18"
      },
      "execution_count": 61,
      "outputs": [
        {
          "output_type": "stream",
          "name": "stdout",
          "text": [
            "[1] 13\n"
          ]
        }
      ]
    },
    {
      "cell_type": "markdown",
      "source": [
        "### Customer List"
      ],
      "metadata": {
        "id": "pPhvbjVFE9qk"
      }
    },
    {
      "cell_type": "code",
      "source": [
        "%%R\n",
        "df_uniqlist =unique(CustomerList)\n",
        "length(df_uniqlist)"
      ],
      "metadata": {
        "colab": {
          "base_uri": "https://localhost:8080/"
        },
        "id": "TTvowrjEJKBK",
        "outputId": "87908efa-5483-4779-d53a-64136a0fc32b"
      },
      "execution_count": 63,
      "outputs": [
        {
          "output_type": "stream",
          "name": "stdout",
          "text": [
            "[1] 23\n"
          ]
        }
      ]
    },
    {
      "cell_type": "markdown",
      "source": [
        "### Customer Address"
      ],
      "metadata": {
        "id": "6Ufs32xaE9u0"
      }
    },
    {
      "cell_type": "code",
      "source": [
        "%%R\n",
        "df_uniqadress =unique(CustomerAddress)\n",
        "length(df_uniqadress)"
      ],
      "metadata": {
        "colab": {
          "base_uri": "https://localhost:8080/"
        },
        "id": "BmLP9K2xJk-K",
        "outputId": "b5273e18-32b6-4ac3-fb7f-55f72d294cde"
      },
      "execution_count": 65,
      "outputs": [
        {
          "output_type": "stream",
          "name": "stdout",
          "text": [
            "[1] 6\n"
          ]
        }
      ]
    },
    {
      "cell_type": "markdown",
      "source": [
        "### Customer Demographic"
      ],
      "metadata": {
        "id": "rLyYrWHIJwIu"
      }
    },
    {
      "cell_type": "code",
      "source": [
        "%%R\n",
        "df_uniqdemo =unique(CustomerDemographic)\n",
        "length(df_uniqdemo)"
      ],
      "metadata": {
        "colab": {
          "base_uri": "https://localhost:8080/"
        },
        "id": "d4tiq6XBJvER",
        "outputId": "28d99dc8-7a42-4d6b-c478-17d7cecb330b"
      },
      "execution_count": 66,
      "outputs": [
        {
          "output_type": "stream",
          "name": "stdout",
          "text": [
            "[1] 13\n"
          ]
        }
      ]
    },
    {
      "cell_type": "markdown",
      "source": [
        "# **Overall Changes**"
      ],
      "metadata": {
        "id": "Qe1uyv8FKMmV"
      }
    },
    {
      "cell_type": "markdown",
      "source": [
        "After analyzing each of the different categories I can determine the level of the data dimension into three cathegories. Improve, will mean that there is a lot to improve, and it is a priority to solve before moving into the next stage. Minor, meaning that it is fairly good and minor changes should be made; and Okay, meaning that no issues could be found and its ready for the next stage.\n",
        "\n",
        "Accuracy: minor changes to be made\n",
        "\n",
        "Completeness: Minor changes to be made\n",
        "\n",
        "Consistency: Improve before next stage\n",
        "\n",
        "Timeliness: Improve before next stage\n",
        "\n",
        "Relevancy: Minor changes to be made\n",
        "\n",
        "Validity: Minor changes to be made\n",
        "\n",
        "Uniqueness: Okay for next stage"
      ],
      "metadata": {
        "id": "UFYPUDyUKSaz"
      }
    },
    {
      "cell_type": "markdown",
      "source": [
        "# Mitigation measures"
      ],
      "metadata": {
        "id": "ZYYJpWEjLDeQ"
      }
    },
    {
      "cell_type": "markdown",
      "source": [
        "Accuracy: As of right now the accuracy of the data is relatively high. Naturally some cleanliness in the data and standardization will increase this accuracy.\n",
        "\n",
        "Completeness: Most of the data is complete, the factor of missing values is usually non significants. Some of the variables that are not complete, are duplicated with other dataset, so after validating the entrees, the completeness level will increase even more. Additionally, it is necessary to the source of the missing data, if they ar missing at random, they can be ignored for future analysis. If not, they can be predicted with the mean or meadia of the categories missing.\n",
        "\n",
        "Consistency: This is the main problem of the data. A lot of data is not consistent across datasets. It is recommended to add a Customer ID for this matter in the customer list. There is a significant number of entries that differ across datasets. Major cleaning must be performed.\n",
        "\n",
        "Timeliness: Adding a time stamp would create the timeliness parameter that will allow the company to know when the data is available.\n",
        "\n",
        "Relevancy: Besides the variable default in the CustomerDemographics dataset, all the variables seem to be relevant.\n",
        "\n",
        "Validity: Some minor adjustments must be done. Specially on the variables regarding dates. A standardized format must be implemented for future datasets.\n",
        "\n",
        "Uniqueness: The data seems to have unique entries, however, a better control can be added once all the datasets are dependent on the CustomerID"
      ],
      "metadata": {
        "id": "nLmQL5m3LRWt"
      }
    }
  ]
}